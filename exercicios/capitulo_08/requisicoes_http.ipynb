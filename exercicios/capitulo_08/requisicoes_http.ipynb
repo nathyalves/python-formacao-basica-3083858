{
 "cells": [
  {
   "attachments": {},
   "cell_type": "markdown",
   "metadata": {},
   "source": [
    "- Importe as bibliotecas requests e csv\n"
   ]
  },
  {
   "cell_type": "code",
   "execution_count": 1,
   "metadata": {},
   "outputs": [],
   "source": [
    "import requests\n",
    "import csv"
   ]
  },
  {
   "attachments": {},
   "cell_type": "markdown",
   "metadata": {},
   "source": [
    "- Faça uma requisição do tipo 'get' para o link 'http://dados.recife.pe.gov.br/dataset/2676fd74-8b40-4248-a1da-0dc45f176b7b/resource/7c005351-2d14-46cf-b2f0-6622a5553b30/download/ocorrencias2022.csv'\n"
   ]
  },
  {
   "cell_type": "code",
   "execution_count": 2,
   "metadata": {},
   "outputs": [],
   "source": [
    "url = 'http://dados.recife.pe.gov.br/dataset/2676fd74-8b40-4248-a1da-0dc45f176b7b/resource/7c005351-2d14-46cf-b2f0-6622a5553b30/download/ocorrencias2022.csv'\n",
    "dados_request = requests.get(url)"
   ]
  },
  {
   "attachments": {},
   "cell_type": "markdown",
   "metadata": {},
   "source": [
    "- Imprima na tela o código com o status da requisição- Imprima na tela os metadados do arquivo\n"
   ]
  },
  {
   "cell_type": "code",
   "execution_count": 3,
   "metadata": {},
   "outputs": [
    {
     "name": "stdout",
     "output_type": "stream",
     "text": [
      "200\n"
     ]
    }
   ],
   "source": [
    "print(dados_request.status_code)"
   ]
  },
  {
   "attachments": {},
   "cell_type": "markdown",
   "metadata": {},
   "source": [
    "- Salve os dados em um arquivo csv, na pasta 'dados'\n"
   ]
  },
  {
   "cell_type": "code",
   "execution_count": 4,
   "metadata": {},
   "outputs": [
    {
     "name": "stdout",
     "output_type": "stream",
     "text": [
      "{'Server': 'nginx/1.12.2', 'Date': 'Wed, 21 Feb 2024 22:33:18 GMT', 'Content-Type': 'text/csv', 'Transfer-Encoding': 'chunked', 'Connection': 'keep-alive', 'Pragma': 'no-cache', 'Cache-Control': 'no-cache', 'Accept-Ranges': 'bytes', 'Last-Modified': 'Sun, 09 Apr 2023 16:41:28 GMT', 'Content-Range': 'bytes 0-28793619/28793620', 'ETag': '\"1681058488.8-28793620\"'}\n"
     ]
    }
   ],
   "source": [
    "print(dados_request.headers)"
   ]
  },
  {
   "attachments": {},
   "cell_type": "markdown",
   "metadata": {},
   "source": [
    "- Leia o arquivo csv em formato de dicionário e imprima na tela as 5 primeiras linhas\n"
   ]
  },
  {
   "cell_type": "code",
   "execution_count": 5,
   "metadata": {},
   "outputs": [],
   "source": [
    "with open('../../dados/samu_2022.csv', 'wb') as dados_csv:\n",
    "    dados_csv.write(dados_request.content)"
   ]
  },
  {
   "attachments": {},
   "cell_type": "markdown",
   "metadata": {},
   "source": [
    "- Filtre apenas as linhas cujo o valor da coluna 'municipio' corresponda a 'RECIFE' e a o valor da coluna 'data' corresponda a '2022-01-01'\n"
   ]
  },
  {
   "cell_type": "code",
   "execution_count": 6,
   "metadata": {},
   "outputs": [
    {
     "name": "stdout",
     "output_type": "stream",
     "text": [
      "{'data': '2022-01-01', 'hora_minuto': '00:02:19', 'municipio': 'RECIFE', 'bairro': 'JARDIM SAO PAULO', 'endereco': 'R LEANDRO BARRETO', 'origem_chamado': 'RESIDENCIAL', 'tipo': 'RESPIRATORIA', 'subtipo': 'CASO SUSPEITO COVID-19', 'sexo': 'FEMININO', 'idade': '81', 'motivo_finalizacao': '', 'motivo_desfecho': 'PACIENTE RECUSA SER REMOVIDO'}\n",
      "{'data': '2022-01-01', 'hora_minuto': '00:03:00', 'municipio': 'RECIFE', 'bairro': 'MADALENA', 'endereco': 'R ALTINHO', 'origem_chamado': 'RESIDENCIAL', 'tipo': 'CAUSAS EXTERNAS', 'subtipo': 'QUEDA DA PROPRIA ALTURA', 'sexo': 'FEMININO', 'idade': '81', 'motivo_finalizacao': '', 'motivo_desfecho': 'DESISTÊNCIA DA SOLICITAÇÃO'}\n",
      "{'data': '2022-01-01', 'hora_minuto': '00:09:38', 'municipio': 'MACAPARANA', 'bairro': 'CENTRO', 'endereco': 'R POSSIDONIO JULIAO DA SILVA', 'origem_chamado': 'VIA PÚBLICA', 'tipo': 'CAUSAS EXTERNAS', 'subtipo': 'OUTROS', 'sexo': 'MASCULINO', 'idade': '0', 'motivo_finalizacao': 'REGULAÇÃO POR TELEFONE', 'motivo_desfecho': 'SEM DESFECHO'}\n",
      "{'data': '2022-01-01', 'hora_minuto': '00:10:02', 'municipio': 'VITORIA DE SANTO ANTAO', 'bairro': 'CENTRO', 'endereco': 'RUA JOSE COSTA N 93 BAIRRO DA', 'origem_chamado': 'RESIDENCIAL', 'tipo': 'GERAIS/OUTROS', 'subtipo': 'OUTROS', 'sexo': 'FEMININO', 'idade': '', 'motivo_finalizacao': 'DESISTÊNCIA DA SOLICITAÇÃO', 'motivo_desfecho': 'SEM DESFECHO'}\n",
      "{'data': '2022-01-01', 'hora_minuto': '00:12:16', 'municipio': 'PALMARES', 'bairro': 'PALMARES CENTRO', 'endereco': 'RUA DOUTOR COSTA MAIA', 'origem_chamado': 'RESIDENCIAL', 'tipo': 'GERAIS/OUTROS', 'subtipo': 'OUTROS', 'sexo': 'MASCULINO', 'idade': '84', 'motivo_finalizacao': '', 'motivo_desfecho': 'OCORRÊNCIA CONCLUÍDA COM ÊXITO'}\n"
     ]
    }
   ],
   "source": [
    "with open('../../dados/samu_2022.csv', 'r') as arquivo_csv:\n",
    "   dados = csv.DictReader(arquivo_csv, delimiter=';')\n",
    "   solicitacoes_recife = [linha for linha in dados if linha['municipio'] == 'RECIFE' and linha['data'] == '2022-01-01']\n",
    "\n",
    "print(solicitacoes_recife)"
   ]
  },
  {
   "attachments": {},
   "cell_type": "markdown",
   "metadata": {},
   "source": [
    "- Imprima na tela o total de ocorrências resultantes do filtro do item anterior\n"
   ]
  },
  {
   "cell_type": "code",
   "execution_count": 8,
   "metadata": {},
   "outputs": [
    {
     "name": "stdout",
     "output_type": "stream",
     "text": [
      "290\n"
     ]
    }
   ],
   "source": [
    "print(len(solicitacoes_recife))"
   ]
  },
  {
   "attachments": {},
   "cell_type": "markdown",
   "metadata": {},
   "source": [
    "- Leia o arquivo \"dados/populacao_mundial.csv\" em formato de dicionário e imprima na tela\n"
   ]
  },
  {
   "cell_type": "code",
   "execution_count": 9,
   "metadata": {},
   "outputs": [
    {
     "name": "stdout",
     "output_type": "stream",
     "text": [
      "{'continente': 'Asia', 'pais': 'Afghanistan', 'ano': '1955', 'população': '8270991', '%_crescimento_populacional': '1.3', 'crescimento_populacional': '103775', 'migrantes': '-4000', 'idade_media': '19.2', '%_fertilidade': '7.45', '%_populacao_urbana': '7.1', 'populacao_urbana': '587818', '%_populacao_mundial': '0.3', 'classificacao': '48'}\n",
      "{'continente': 'Asia', 'pais': 'Afghanistan', 'ano': '1960', 'população': '8996973', '%_crescimento_populacional': '1.7', 'crescimento_populacional': '145196', 'migrantes': '-4000', 'idade_media': '18.8', '%_fertilidade': '7.45', '%_populacao_urbana': '8.4', 'populacao_urbana': '755797', '%_populacao_mundial': '0.3', 'classificacao': '48'}\n",
      "{'continente': 'Asia', 'pais': 'Afghanistan', 'ano': '1965', 'população': '9956320', '%_crescimento_populacional': '2.05', 'crescimento_populacional': '191869', 'migrantes': '-4000', 'idade_media': '18.4', '%_fertilidade': '7.45', '%_populacao_urbana': '9.9', 'populacao_urbana': '984350', '%_populacao_mundial': '0.3', 'classificacao': '48'}\n",
      "{'continente': 'Asia', 'pais': 'Afghanistan', 'ano': '1970', 'população': '11173642', '%_crescimento_populacional': '2.33', 'crescimento_populacional': '243464', 'migrantes': '-4000', 'idade_media': '17.9', '%_fertilidade': '7.45', '%_populacao_urbana': '11.6', 'populacao_urbana': '1295433', '%_populacao_mundial': '0.3', 'classificacao': '48'}\n",
      "{'continente': 'Asia', 'pais': 'Afghanistan', 'ano': '1975', 'população': '12689160', '%_crescimento_populacional': '2.58', 'crescimento_populacional': '303104', 'migrantes': '-4000', 'idade_media': '17.3', '%_fertilidade': '7.45', '%_populacao_urbana': '13.5', 'populacao_urbana': '1717422', '%_populacao_mundial': '0.31', 'classificacao': '48'}\n"
     ]
    }
   ],
   "source": [
    "with open('../../dados/populacao_mundial.csv', 'r') as arquivo_csv:\n",
    "   dados = list(csv.DictReader(arquivo_csv, delimiter='\\t'))\n",
    "   for linha in dados[:5]:\n",
    "       print(linha)"
   ]
  },
  {
   "attachments": {},
   "cell_type": "markdown",
   "metadata": {},
   "source": [
    "- Abra o arquivo \"dados/populacao_mundial.csv\" no modo leitura e retorne apenas os dados do país \"Brazil\""
   ]
  },
  {
   "cell_type": "code",
   "execution_count": 10,
   "metadata": {},
   "outputs": [
    {
     "name": "stdout",
     "output_type": "stream",
     "text": [
      "[{'continente': 'Latin America and the Caribbean', 'pais': 'Brazil', 'ano': '1955', 'população': '62533919', '%_crescimento_populacional': '2.99', 'crescimento_populacional': '1711838', 'migrantes': '59635', 'idade_media': '18.9', '%_fertilidade': '6.1', '%_populacao_urbana': '41.1', 'populacao_urbana': '25688833', '%_populacao_mundial': '2.26', 'classificacao': '8'}, {'continente': 'Latin America and the Caribbean', 'pais': 'Brazil', 'ano': '1960', 'população': '72179226', '%_crescimento_populacional': '2.91', 'crescimento_populacional': '1929061', 'migrantes': '0', 'idade_media': '18.6', '%_fertilidade': '6.06', '%_populacao_urbana': '46.2', 'populacao_urbana': '33315588', '%_populacao_mundial': '2.38', 'classificacao': '8'}, {'continente': 'Latin America and the Caribbean', 'pais': 'Brazil', 'ano': '1965', 'população': '83373530', '%_crescimento_populacional': '2.93', 'crescimento_populacional': '2238861', 'migrantes': '0', 'idade_media': '18.3', '%_fertilidade': '5.97', '%_populacao_urbana': '51.1', 'populacao_urbana': '42615168', '%_populacao_mundial': '2.5', 'classificacao': '8'}, {'continente': 'Latin America and the Caribbean', 'pais': 'Brazil', 'ano': '1970', 'população': '95113265', '%_crescimento_populacional': '2.67', 'crescimento_populacional': '2347947', 'migrantes': '0', 'idade_media': '18.6', '%_fertilidade': '5.34', '%_populacao_urbana': '56', 'populacao_urbana': '53295882', '%_populacao_mundial': '2.57', 'classificacao': '7'}, {'continente': 'Latin America and the Caribbean', 'pais': 'Brazil', 'ano': '1975', 'população': '107216205', '%_crescimento_populacional': '2.42', 'crescimento_populacional': '2420588', 'migrantes': '0', 'idade_media': '19.5', '%_fertilidade': '4.63', '%_populacao_urbana': '61', 'populacao_urbana': '65415995', '%_populacao_mundial': '2.63', 'classificacao': '7'}, {'continente': 'Latin America and the Caribbean', 'pais': 'Brazil', 'ano': '1980', 'população': '120694009', '%_crescimento_populacional': '2.4', 'crescimento_populacional': '2695561', 'migrantes': '0', 'idade_media': '20.3', '%_fertilidade': '4.24', '%_populacao_urbana': '65.7', 'populacao_urbana': '79320279', '%_populacao_mundial': '2.71', 'classificacao': '6'}, {'continente': 'Latin America and the Caribbean', 'pais': 'Brazil', 'ano': '1985', 'população': '135274080', '%_crescimento_populacional': '2.31', 'crescimento_populacional': '2916014', 'migrantes': '0', 'idade_media': '21.4', '%_fertilidade': '3.8', '%_populacao_urbana': '70.1', 'populacao_urbana': '94786793', '%_populacao_mundial': '2.78', 'classificacao': '6'}, {'continente': 'Latin America and the Caribbean', 'pais': 'Brazil', 'ano': '1990', 'população': '149003223', '%_crescimento_populacional': '1.95', 'crescimento_populacional': '2745829', 'migrantes': '0', 'idade_media': '22.6', '%_fertilidade': '3.14', '%_populacao_urbana': '74.1', 'populacao_urbana': '110404028', '%_populacao_mundial': '2.8', 'classificacao': '5'}, {'continente': 'Latin America and the Caribbean', 'pais': 'Brazil', 'ano': '1995', 'população': '162019896', '%_crescimento_populacional': '1.69', 'crescimento_populacional': '2603335', 'migrantes': '0', 'idade_media': '23.9', '%_fertilidade': '2.72', '%_populacao_urbana': '77.7', 'populacao_urbana': '125958216', '%_populacao_mundial': '2.82', 'classificacao': '5'}, {'continente': 'Latin America and the Caribbean', 'pais': 'Brazil', 'ano': '2000', 'população': '174790340', '%_crescimento_populacional': '1.53', 'crescimento_populacional': '2554089', 'migrantes': '0', 'idade_media': '25.3', '%_fertilidade': '2.47', '%_populacao_urbana': '81.4', 'populacao_urbana': '142319507', '%_populacao_mundial': '2.85', 'classificacao': '5'}, {'continente': 'Latin America and the Caribbean', 'pais': 'Brazil', 'ano': '2005', 'população': '186127103', '%_crescimento_populacional': '1.26', 'crescimento_populacional': '2267353', 'migrantes': '0', 'idade_media': '27.1', '%_fertilidade': '2.13', '%_populacao_urbana': '83.2', 'populacao_urbana': '154831640', '%_populacao_mundial': '2.85', 'classificacao': '5'}, {'continente': 'Latin America and the Caribbean', 'pais': 'Brazil', 'ano': '2010', 'população': '195713635', '%_crescimento_populacional': '1.01', 'crescimento_populacional': '1917306', 'migrantes': '0', 'idade_media': '29.2', '%_fertilidade': '1.86', '%_populacao_urbana': '84.8', 'populacao_urbana': '165969018', '%_populacao_mundial': '2.81', 'classificacao': '5'}, {'continente': 'Latin America and the Caribbean', 'pais': 'Brazil', 'ano': '2015', 'população': '204471769', '%_crescimento_populacional': '0.88', 'crescimento_populacional': '1751627', 'migrantes': '3185', 'idade_media': '31.4', '%_fertilidade': '1.77', '%_populacao_urbana': '86.4', 'populacao_urbana': '176653700', '%_populacao_mundial': '2.77', 'classificacao': '5'}, {'continente': 'Latin America and the Caribbean', 'pais': 'Brazil', 'ano': '2016', 'população': '206163053', '%_crescimento_populacional': '0.83', 'crescimento_populacional': '1691284', 'migrantes': '21200', 'idade_media': '31.8', '%_fertilidade': '1.76', '%_populacao_urbana': '86.7', 'populacao_urbana': '178669587', '%_populacao_mundial': '2.76', 'classificacao': '5'}, {'continente': 'Latin America and the Caribbean', 'pais': 'Brazil', 'ano': '2017', 'população': '207833823', '%_crescimento_populacional': '0.81', 'crescimento_populacional': '1670770', 'migrantes': '21200', 'idade_media': '31.8', '%_fertilidade': '1.76', '%_populacao_urbana': '86.9', 'populacao_urbana': '180633872', '%_populacao_mundial': '2.75', 'classificacao': '6'}, {'continente': 'Latin America and the Caribbean', 'pais': 'Brazil', 'ano': '2018', 'população': '209469323', '%_crescimento_populacional': '0.79', 'crescimento_populacional': '1635500', 'migrantes': '21200', 'idade_media': '31.8', '%_fertilidade': '1.76', '%_populacao_urbana': '87.1', 'populacao_urbana': '182546459', '%_populacao_mundial': '2.74', 'classificacao': '6'}, {'continente': 'Latin America and the Caribbean', 'pais': 'Brazil', 'ano': '2019', 'população': '211049527', '%_crescimento_populacional': '0.75', 'crescimento_populacional': '1580204', 'migrantes': '21200', 'idade_media': '31.8', '%_fertilidade': '1.76', '%_populacao_urbana': '87.4', 'populacao_urbana': '184407548', '%_populacao_mundial': '2.74', 'classificacao': '6'}, {'continente': 'Latin America and the Caribbean', 'pais': 'Brazil', 'ano': '2020', 'população': '212559417', '%_crescimento_populacional': '0.72', 'crescimento_populacional': '1509890', 'migrantes': '21200', 'idade_media': '33.5', '%_fertilidade': '1.74', '%_populacao_urbana': '87.6', 'populacao_urbana': '186217070', '%_populacao_mundial': '2.73', 'classificacao': '6'}]\n"
     ]
    }
   ],
   "source": [
    "with open('../../dados/populacao_mundial.csv', 'r') as arquivo_csv:\n",
    "   dados = csv.DictReader(arquivo_csv, delimiter='\\t')\n",
    "   populacao_brasileira = [linha for linha in dados if linha['pais'] == 'Brazil']\n",
    "\n",
    "print(populacao_brasileira)"
   ]
  }
 ],
 "metadata": {
  "kernelspec": {
   "display_name": "Python 3",
   "language": "python",
   "name": "python3"
  },
  "language_info": {
   "codemirror_mode": {
    "name": "ipython",
    "version": 3
   },
   "file_extension": ".py",
   "mimetype": "text/x-python",
   "name": "python",
   "nbconvert_exporter": "python",
   "pygments_lexer": "ipython3",
   "version": "3.10.13"
  },
  "orig_nbformat": 4,
  "vscode": {
   "interpreter": {
    "hash": "916dbcbb3f70747c44a77c7bcd40155683ae19c65e1c03b4aa3499c5328201f1"
   }
  }
 },
 "nbformat": 4,
 "nbformat_minor": 2
}

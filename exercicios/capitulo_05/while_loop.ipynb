{
 "cells": [
  {
   "attachments": {},
   "cell_type": "markdown",
   "metadata": {},
   "source": [
    "- Crie um while loop que imprima números de 0 a 5\n"
   ]
  },
  {
   "cell_type": "code",
   "execution_count": 1,
   "metadata": {},
   "outputs": [
    {
     "name": "stdout",
     "output_type": "stream",
     "text": [
      "0\n",
      "1\n",
      "2\n",
      "3\n",
      "4\n",
      "5\n"
     ]
    }
   ],
   "source": [
    "cont = 0 \n",
    "while cont <= 5:\n",
    "    print(cont)\n",
    "    cont+=1"
   ]
  },
  {
   "attachments": {},
   "cell_type": "markdown",
   "metadata": {},
   "source": [
    "- Crie um while loop com else"
   ]
  },
  {
   "cell_type": "code",
   "execution_count": 2,
   "metadata": {},
   "outputs": [
    {
     "name": "stdout",
     "output_type": "stream",
     "text": [
      "Você está no estágio mais fácil dentre todos.\n",
      "Você passou do estágio 2\n",
      "Você passou do estágio 3\n"
     ]
    }
   ],
   "source": [
    "estagio_atual = 0\n",
    "estagio_final = 5\n",
    "\n",
    "while estagio_atual <= estagio_final:\n",
    "\testagio_atual += 1\n",
    "\tif estagio_atual == 1:\n",
    "\t\tcontinue\n",
    "\telif estagio_atual == 2:\n",
    "\t\tprint('Você está no estágio mais fácil dentre todos.')\n",
    "\telif estagio_atual == 3:\n",
    "\t\tpass\n",
    "\telif estagio_atual == 4:\n",
    "\t\tbreak\n",
    "\tprint('Você passou do estágio', estagio_atual)\n",
    "\n",
    "else:\n",
    "\tprint('Fim do jogo')"
   ]
  }
 ],
 "metadata": {
  "kernelspec": {
   "display_name": "Python 3",
   "language": "python",
   "name": "python3"
  },
  "language_info": {
   "codemirror_mode": {
    "name": "ipython",
    "version": 3
   },
   "file_extension": ".py",
   "mimetype": "text/x-python",
   "name": "python",
   "nbconvert_exporter": "python",
   "pygments_lexer": "ipython3",
   "version": "3.10.13"
  },
  "orig_nbformat": 4,
  "vscode": {
   "interpreter": {
    "hash": "916dbcbb3f70747c44a77c7bcd40155683ae19c65e1c03b4aa3499c5328201f1"
   }
  }
 },
 "nbformat": 4,
 "nbformat_minor": 2
}
